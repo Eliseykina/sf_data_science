{
 "cells": [
  {
   "cell_type": "markdown",
   "id": "f468bf1e",
   "metadata": {},
   "source": [
    "## Область определения"
   ]
  },
  {
   "cell_type": "code",
   "execution_count": 1,
   "id": "c95eac41",
   "metadata": {},
   "outputs": [
    {
     "data": {
      "text/latex": [
       "$\\displaystyle \\left(-\\infty, -1\\right) \\cup \\left(-1, 1\\right) \\cup \\left(1, \\infty\\right)$"
      ],
      "text/plain": [
       "Union(Interval.open(-oo, -1), Interval.open(-1, 1), Interval.open(1, oo))"
      ]
     },
     "execution_count": 1,
     "metadata": {},
     "output_type": "execute_result"
    }
   ],
   "source": [
    "from sympy import Symbol, S\n",
    "from sympy.calculus.util import continuous_domain \n",
    "x = Symbol(\"x\") \n",
    "f = (x**3)/(x**2-1) \n",
    "continuous_domain(f, x, S.Reals)\n"
   ]
  },
  {
   "cell_type": "markdown",
   "id": "3def5ae7",
   "metadata": {},
   "source": [
    "## Область значений функции"
   ]
  },
  {
   "cell_type": "code",
   "execution_count": 2,
   "id": "84f388ff",
   "metadata": {},
   "outputs": [
    {
     "data": {
      "text/latex": [
       "$\\displaystyle \\left(-\\infty, \\infty\\right)$"
      ],
      "text/plain": [
       "Interval(-oo, oo)"
      ]
     },
     "execution_count": 2,
     "metadata": {},
     "output_type": "execute_result"
    }
   ],
   "source": [
    "from sympy import Symbol, S\n",
    "from sympy.calculus.util import function_range\n",
    "x = Symbol(\"x\") \n",
    "f = (x**3)/(x**2-1) \n",
    "function_range(f, x, S.Reals)\n"
   ]
  },
  {
   "cell_type": "markdown",
   "id": "39726364",
   "metadata": {},
   "source": [
    "## Нахождение точек пересечения с осями координат"
   ]
  },
  {
   "cell_type": "code",
   "execution_count": 3,
   "id": "c484f33f",
   "metadata": {},
   "outputs": [
    {
     "data": {
      "text/latex": [
       "$\\displaystyle \\left\\{0\\right\\}$"
      ],
      "text/plain": [
       "{0}"
      ]
     },
     "execution_count": 3,
     "metadata": {},
     "output_type": "execute_result"
    }
   ],
   "source": [
    "from sympy import solveset, Eq\n",
    "f = (x**3)/(x**2-1) \n",
    "solveset(Eq(f, 0), x)"
   ]
  },
  {
   "cell_type": "code",
   "execution_count": 4,
   "id": "a11f173f",
   "metadata": {},
   "outputs": [
    {
     "data": {
      "text/latex": [
       "$\\displaystyle 0$"
      ],
      "text/plain": [
       "0"
      ]
     },
     "execution_count": 4,
     "metadata": {},
     "output_type": "execute_result"
    }
   ],
   "source": [
    "x = Symbol(\"x\")\n",
    "f = (x**3)/(x**2-1)\n",
    "f.subs(x, 0)"
   ]
  },
  {
   "cell_type": "markdown",
   "id": "14d60350",
   "metadata": {},
   "source": [
    "## Нахождение производной"
   ]
  },
  {
   "cell_type": "code",
   "execution_count": 5,
   "id": "749f70c3",
   "metadata": {},
   "outputs": [
    {
     "data": {
      "text/latex": [
       "$\\displaystyle - \\frac{2 x^{4}}{\\left(x^{2} - 1\\right)^{2}} + \\frac{3 x^{2}}{x^{2} - 1}$"
      ],
      "text/plain": [
       "-2*x**4/(x**2 - 1)**2 + 3*x**2/(x**2 - 1)"
      ]
     },
     "execution_count": 5,
     "metadata": {},
     "output_type": "execute_result"
    }
   ],
   "source": [
    "import sympy\n",
    "from sympy import diff\n",
    "x = sympy.Symbol(\"x\")\n",
    "expr = (x**3)/(x**2-1)\n",
    "expr.diff(x)\n"
   ]
  },
  {
   "cell_type": "code",
   "execution_count": 6,
   "id": "7d1093f9",
   "metadata": {},
   "outputs": [
    {
     "data": {
      "text/latex": [
       "$\\displaystyle \\left\\{0, - \\sqrt{3}, \\sqrt{3}\\right\\}$"
      ],
      "text/plain": [
       "{0, -sqrt(3), sqrt(3)}"
      ]
     },
     "execution_count": 6,
     "metadata": {},
     "output_type": "execute_result"
    }
   ],
   "source": [
    "y = expr.diff(x)\n",
    "solveset(Eq(y, 0), x)"
   ]
  },
  {
   "cell_type": "markdown",
   "id": "10d568f8",
   "metadata": {},
   "source": [
    "## Нахождение второй производной"
   ]
  },
  {
   "cell_type": "code",
   "execution_count": 7,
   "id": "cfebc61b",
   "metadata": {},
   "outputs": [
    {
     "data": {
      "text/latex": [
       "$\\displaystyle \\frac{2 x \\left(\\frac{x^{2} \\cdot \\left(\\frac{4 x^{2}}{x^{2} - 1} - 1\\right)}{x^{2} - 1} - \\frac{6 x^{2}}{x^{2} - 1} + 3\\right)}{x^{2} - 1}$"
      ],
      "text/plain": [
       "2*x*(x**2*(4*x**2/(x**2 - 1) - 1)/(x**2 - 1) - 6*x**2/(x**2 - 1) + 3)/(x**2 - 1)"
      ]
     },
     "execution_count": 7,
     "metadata": {},
     "output_type": "execute_result"
    }
   ],
   "source": [
    "import sympy\n",
    "from sympy import diff\n",
    "x = sympy.Symbol(\"x\")\n",
    "expr = (x**3)/(x**2-1)\n",
    "expr.diff(x,2)"
   ]
  },
  {
   "cell_type": "code",
   "execution_count": 8,
   "id": "31d8a7c8",
   "metadata": {},
   "outputs": [
    {
     "data": {
      "text/latex": [
       "$\\displaystyle \\left\\{0, - \\sqrt{3} i, \\sqrt{3} i\\right\\}$"
      ],
      "text/plain": [
       "{0, -sqrt(3)*I, sqrt(3)*I}"
      ]
     },
     "execution_count": 8,
     "metadata": {},
     "output_type": "execute_result"
    }
   ],
   "source": [
    "y = expr.diff(x,2)\n",
    "solveset(Eq(y, 0), x)"
   ]
  },
  {
   "cell_type": "markdown",
   "id": "fc9a293e",
   "metadata": {},
   "source": [
    "## Нахождение асимптот"
   ]
  },
  {
   "cell_type": "code",
   "execution_count": 9,
   "id": "9015fba6",
   "metadata": {},
   "outputs": [
    {
     "data": {
      "text/latex": [
       "$\\displaystyle \\infty$"
      ],
      "text/plain": [
       "oo"
      ]
     },
     "execution_count": 9,
     "metadata": {},
     "output_type": "execute_result"
    }
   ],
   "source": [
    "from sympy import Symbol, limit, oo\n",
    "x = Symbol(\"x\")\n",
    "f = (x**3)/(x**2-1)\n",
    "limit(f,x,oo)\n"
   ]
  },
  {
   "cell_type": "code",
   "execution_count": 10,
   "id": "ad626e7c",
   "metadata": {},
   "outputs": [
    {
     "data": {
      "text/latex": [
       "$\\displaystyle \\infty$"
      ],
      "text/plain": [
       "oo"
      ]
     },
     "execution_count": 10,
     "metadata": {},
     "output_type": "execute_result"
    }
   ],
   "source": [
    "from sympy import Symbol, limit, oo\n",
    "x = Symbol(\"x\")\n",
    "f = (x**3)/(x**2-1)\n",
    "limit(f,x,1)\n"
   ]
  },
  {
   "cell_type": "code",
   "execution_count": 11,
   "id": "13913fbf",
   "metadata": {},
   "outputs": [
    {
     "data": {
      "text/latex": [
       "$\\displaystyle \\infty$"
      ],
      "text/plain": [
       "oo"
      ]
     },
     "execution_count": 11,
     "metadata": {},
     "output_type": "execute_result"
    }
   ],
   "source": [
    "from sympy import Symbol, limit, oo\n",
    "x = Symbol(\"x\")\n",
    "f = (x**3)/(x**2-1)\n",
    "limit(f,x,-1)\n"
   ]
  },
  {
   "cell_type": "code",
   "execution_count": 12,
   "id": "dfb2adc9",
   "metadata": {},
   "outputs": [
    {
     "data": {
      "text/latex": [
       "$\\displaystyle 1$"
      ],
      "text/plain": [
       "1"
      ]
     },
     "execution_count": 12,
     "metadata": {},
     "output_type": "execute_result"
    }
   ],
   "source": [
    "from sympy import Symbol, limit, oo\n",
    "x = Symbol(\"x\")\n",
    "f = (x**3)/((x**2-1)*x)\n",
    "limit(f,x,oo)\n"
   ]
  },
  {
   "cell_type": "code",
   "execution_count": 13,
   "id": "1ed7d557",
   "metadata": {},
   "outputs": [
    {
     "data": {
      "text/latex": [
       "$\\displaystyle 0$"
      ],
      "text/plain": [
       "0"
      ]
     },
     "execution_count": 13,
     "metadata": {},
     "output_type": "execute_result"
    }
   ],
   "source": [
    "from sympy import Symbol, limit, oo\n",
    "x = Symbol(\"x\")\n",
    "f = (x**3)/((x**2-1)) - 1*x\n",
    "limit(f,x,oo)\n"
   ]
  },
  {
   "cell_type": "code",
   "execution_count": 2,
   "id": "23f4c70f",
   "metadata": {},
   "outputs": [
    {
     "data": {
      "text/plain": [
       "0.55"
      ]
     },
     "execution_count": 2,
     "metadata": {},
     "output_type": "execute_result"
    }
   ],
   "source": [
    "0.4**2 + 2*(0.1**2) + 3*(0.2**2) + 0.5**2"
   ]
  },
  {
   "cell_type": "code",
   "execution_count": 3,
   "id": "904b0d31",
   "metadata": {},
   "outputs": [
    {
     "ename": "NameError",
     "evalue": "name 'exp' is not defined",
     "output_type": "error",
     "traceback": [
      "\u001b[1;31m---------------------------------------------------------------------------\u001b[0m",
      "\u001b[1;31mNameError\u001b[0m                                 Traceback (most recent call last)",
      "\u001b[1;32md:\\Обучение\\Skillfactory\\блок 5\\Линейная алгебра\\Практика.ipynb Ячейка 21\u001b[0m in \u001b[0;36m<cell line: 1>\u001b[1;34m()\u001b[0m\n\u001b[1;32m----> <a href='vscode-notebook-cell:/d%3A/%D0%9E%D0%B1%D1%83%D1%87%D0%B5%D0%BD%D0%B8%D0%B5/Skillfactory/%D0%B1%D0%BB%D0%BE%D0%BA%205/%D0%9B%D0%B8%D0%BD%D0%B5%D0%B9%D0%BD%D0%B0%D1%8F%20%D0%B0%D0%BB%D0%B3%D0%B5%D0%B1%D1%80%D0%B0/%D0%9F%D1%80%D0%B0%D0%BA%D1%82%D0%B8%D0%BA%D0%B0.ipynb#X30sZmlsZQ%3D%3D?line=0'>1</a>\u001b[0m exp(\u001b[39m-\u001b[39m\u001b[39m2\u001b[39m)\n",
      "\u001b[1;31mNameError\u001b[0m: name 'exp' is not defined"
     ]
    }
   ],
   "source": [
    "exp(-2)"
   ]
  }
 ],
 "metadata": {
  "kernelspec": {
   "display_name": "Python 3.9.12 ('base')",
   "language": "python",
   "name": "python3"
  },
  "language_info": {
   "codemirror_mode": {
    "name": "ipython",
    "version": 3
   },
   "file_extension": ".py",
   "mimetype": "text/x-python",
   "name": "python",
   "nbconvert_exporter": "python",
   "pygments_lexer": "ipython3",
   "version": "3.9.12"
  },
  "vscode": {
   "interpreter": {
    "hash": "0ec74f2ef0ca598f390a4a7db092ad1c70db3c7088fec82b00d464e499cb9a24"
   }
  }
 },
 "nbformat": 4,
 "nbformat_minor": 5
}
