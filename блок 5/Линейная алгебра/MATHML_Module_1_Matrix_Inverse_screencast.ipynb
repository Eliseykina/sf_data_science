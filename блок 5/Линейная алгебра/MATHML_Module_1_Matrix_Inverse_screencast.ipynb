{
  "cells": [
    {
      "cell_type": "code",
      "execution_count": 1,
      "metadata": {
        "collapsed": true
      },
      "outputs": [],
      "source": [
        "import numpy as np"
      ]
    },
    {
      "cell_type": "code",
      "execution_count": null,
      "metadata": {
        "collapsed": false
      },
      "outputs": [],
      "source": [
        "# обратная матрица - все ок\n",
        "A1=np.array([[1,2,3],[4,5,6],[7,8,10]])\n",
        "print('A1:\\n',A1)"
      ]
    },
    {
      "cell_type": "code",
      "execution_count": null,
      "metadata": {
        "collapsed": false
      },
      "outputs": [],
      "source": [
        "print('rk(A3):\\n',np.linalg.matrix_rank(A1))"
      ]
    },
    {
      "cell_type": "code",
      "execution_count": null,
      "metadata": {
        "collapsed": false
      },
      "outputs": [],
      "source": [
        "# обратная матрица - все ок\n",
        "A1_inv=np.linalg.inv(A1)\n",
        "print('A1 inversed:\\n',A1_inv)\n"
      ]
    },
    {
      "cell_type": "code",
      "execution_count": null,
      "metadata": {
        "collapsed": false
      },
      "outputs": [],
      "source": [
        "# обратная матрица - все ок\n",
        "print('A1 @ A1 inversed=E check:\\n',A1@A1_inv,1)\n",
        "print(np.round(A1@A1_inv,1))\n",
        "print('check OK')"
      ]
    },
    {
      "cell_type": "code",
      "execution_count": null,
      "metadata": {
        "collapsed": false
      },
      "outputs": [],
      "source": [
        "# обратная матрица - вырожденный случай\n",
        "A2=np.array([[1,2,3],[4,5,6],[1,2,3]])\n",
        "print('A2:\\n',A2)"
      ]
    },
    {
      "cell_type": "code",
      "execution_count": null,
      "metadata": {
        "collapsed": false
      },
      "outputs": [],
      "source": [
        "# обратная матрица - вырожденный случай\n",
        "print('rk(A3):\\n',np.linalg.matrix_rank(A2))"
      ]
    },
    {
      "cell_type": "code",
      "execution_count": null,
      "metadata": {
        "collapsed": false
      },
      "outputs": [],
      "source": [
        "# обратная матрица - вырожденный случай\n",
        "np.linalg.inv(A2)"
      ]
    },
    {
      "cell_type": "code",
      "execution_count": null,
      "metadata": {
        "collapsed": false
      },
      "outputs": [],
      "source": [
        "# обратная матрица - magic\n",
        "A3=np.array([[1,2,3],[4,5,6],[7,8,9]])\n",
        "print('A3:\\n',A3)"
      ]
    },
    {
      "cell_type": "code",
      "execution_count": null,
      "metadata": {
        "collapsed": false
      },
      "outputs": [],
      "source": [
        "# обратная матрица - magic\n",
        "print('rk(A3):\\n',np.linalg.matrix_rank(A3))"
      ]
    },
    {
      "cell_type": "code",
      "execution_count": null,
      "metadata": {
        "collapsed": false
      },
      "outputs": [],
      "source": [
        "# обратная матрица - magic\n",
        "print('A3 inversed:\\n',np.linalg.inv(A3))"
      ]
    },
    {
      "cell_type": "code",
      "execution_count": null,
      "metadata": {
        "collapsed": false
      },
      "outputs": [],
      "source": [
        "# обратная матрица - magic\n",
        "print('A3 @ A3 inversed = E check:\\n',A3@np.linalg.inv(A3))\n",
        "print('check failed')"
      ]
    },
    {
      "cell_type": "code",
      "execution_count": null,
      "metadata": {
        "collapsed": false
      },
      "outputs": [],
      "source": [
        "print('det(A1)):\\n',np.linalg.det(A1))"
      ]
    },
    {
      "cell_type": "code",
      "execution_count": null,
      "metadata": {
        "collapsed": false
      },
      "outputs": [],
      "source": [
        "print('det(A2)):\\n',np.linalg.det(A2))"
      ]
    },
    {
      "cell_type": "code",
      "execution_count": null,
      "metadata": {
        "collapsed": false
      },
      "outputs": [],
      "source": [
        "print('det(A3)):\\n',np.linalg.det(A3))"
      ]
    },
    {
      "cell_type": "code",
      "execution_count": null,
      "metadata": {
        "collapsed": false
      },
      "outputs": [],
      "source": [
        "# обратная матрица - неустойчивость\n",
        "A4=np.array([[1,2,3],[4,5,6],[1,2,3.00005]])\n",
        "print('A4:\\n',A4)\n",
        "print('rk(A4):\\n',np.linalg.matrix_rank(A4))\n",
        "print('det(A4):\\n',np.linalg.det(A4))\n",
        "print('A4 inverse:\\n',np.linalg.inv(A4))"
      ]
    },
    {
      "cell_type": "code",
      "execution_count": null,
      "metadata": {
        "collapsed": false
      },
      "outputs": [],
      "source": [
        "# обратная матрица - неустойчивость вблизи нулевого определителя\n",
        "A5=np.array([[1,2,3],[4,5,6],[1,2,3.00000005]])\n",
        "print('A5:\\n',A5)\n",
        "print('rk(A5):\\n',np.linalg.matrix_rank(A5))\n",
        "print('det(A5):\\n',np.linalg.det(A5))\n",
        "print('A5 inverse:\\n',np.linalg.inv(A5))"
      ]
    },
    {
      "cell_type": "code",
      "execution_count": null,
      "metadata": {
        "collapsed": false
      },
      "outputs": [],
      "source": [
        "# обратимость матрицы Грама линейно независимой системы векторов\n",
        "v1=np.array([1,2,1])\n",
        "v2=np.array([1,1,1])\n",
        "A=np.array([v1,v2]).T\n",
        "print('A:\\n',A)\n",
        "print('Матрица Грама:\\n',A.T@A)"
      ]
    },
    {
      "cell_type": "code",
      "execution_count": null,
      "metadata": {
        "collapsed": false
      },
      "outputs": [],
      "source": [
        "print('Ранг матрицы Грама:\\n',np.linalg.matrix_rank(A.T@A))"
      ]
    },
    {
      "cell_type": "code",
      "execution_count": null,
      "metadata": {
        "collapsed": false
      },
      "outputs": [],
      "source": [
        "print('Определитель матрицы Грама:\\n',np.linalg.det(A.T@A))"
      ]
    },
    {
      "cell_type": "code",
      "execution_count": null,
      "metadata": {
        "collapsed": false
      },
      "outputs": [],
      "source": [
        "print('Обратная к матрице Грама:\\n',np.linalg.inv(A.T@A))"
      ]
    },
    {
      "cell_type": "code",
      "execution_count": 2,
      "metadata": {
        "collapsed": true
      },
      "outputs": [],
      "source": [
        "A = np.array([[8, 6, 11], [7, 5, 9],[6, 10, 6]])"
      ]
    },
    {
      "cell_type": "code",
      "execution_count": 3,
      "metadata": {},
      "outputs": [
        {
          "data": {
            "text/plain": [
              "array([[-1.875  ,  2.3125 , -0.03125],\n",
              "       [ 0.375  , -0.5625 ,  0.15625],\n",
              "       [ 1.25   , -1.375  , -0.0625 ]])"
            ]
          },
          "execution_count": 3,
          "metadata": {},
          "output_type": "execute_result"
        }
      ],
      "source": [
        "np.linalg.inv(A)"
      ]
    },
    {
      "cell_type": "code",
      "execution_count": 7,
      "metadata": {},
      "outputs": [],
      "source": [
        "v1 = np.array([9, 10, 7, 7, 9])\n",
        "v2 = np.array([2, 0, 5, 1, 4])\n",
        "v3 = np.array([4, 0, 0, 4, 1])\n",
        "v4 = np.array([3, -4, 3, -1, -4])"
      ]
    },
    {
      "cell_type": "code",
      "execution_count": 6,
      "metadata": {},
      "outputs": [
        {
          "data": {
            "text/plain": [
              "matrix([[ 9,  2,  4,  3],\n",
              "        [10,  0,  0, -4],\n",
              "        [ 7,  5,  0,  3],\n",
              "        [ 7,  1,  4, -1],\n",
              "        [ 9,  4,  1, -4]])"
            ]
          },
          "execution_count": 6,
          "metadata": {},
          "output_type": "execute_result"
        }
      ],
      "source": [
        "A = np.matrix([v1, v2, v3, v4])\n",
        "A = A.T\n",
        "A"
      ]
    },
    {
      "cell_type": "code",
      "execution_count": 8,
      "metadata": {},
      "outputs": [
        {
          "data": {
            "text/plain": [
              "4"
            ]
          },
          "execution_count": 8,
          "metadata": {},
          "output_type": "execute_result"
        }
      ],
      "source": [
        "np.linalg.matrix_rank(A)"
      ]
    },
    {
      "cell_type": "code",
      "execution_count": 9,
      "metadata": {},
      "outputs": [
        {
          "data": {
            "text/plain": [
              "matrix([[360,  96,  73, -35],\n",
              "        [ 96,  46,  16,   4],\n",
              "        [ 73,  16,  33,   4],\n",
              "        [-35,   4,   4,  51]])"
            ]
          },
          "execution_count": 9,
          "metadata": {},
          "output_type": "execute_result"
        }
      ],
      "source": [
        "G = A.T@A\n",
        "G"
      ]
    },
    {
      "cell_type": "code",
      "execution_count": 11,
      "metadata": {},
      "outputs": [
        {
          "data": {
            "text/plain": [
              "3716648"
            ]
          },
          "execution_count": 11,
          "metadata": {},
          "output_type": "execute_result"
        }
      ],
      "source": [
        "round(np.linalg.det(G))"
      ]
    },
    {
      "cell_type": "code",
      "execution_count": 12,
      "metadata": {},
      "outputs": [
        {
          "data": {
            "text/plain": [
              "matrix([[ 0.01711488, -0.02798543, -0.02623063,  0.01599775],\n",
              "        [-0.02798543,  0.071967  ,  0.03031441, -0.02722776],\n",
              "        [-0.02623063,  0.03031441,  0.07683106, -0.02640498],\n",
              "        [ 0.01599775, -0.02722776, -0.02640498,  0.03479318]])"
            ]
          },
          "execution_count": 12,
          "metadata": {},
          "output_type": "execute_result"
        }
      ],
      "source": [
        "np.linalg.inv(G)"
      ]
    },
    {
      "cell_type": "code",
      "execution_count": null,
      "metadata": {},
      "outputs": [],
      "source": []
    }
  ],
  "metadata": {
    "kernelspec": {
      "display_name": "Python 3.9.12 ('base')",
      "language": "python",
      "name": "python3"
    },
    "language_info": {
      "codemirror_mode": {
        "name": "ipython",
        "version": 3
      },
      "file_extension": ".py",
      "mimetype": "text/x-python",
      "name": "python",
      "nbconvert_exporter": "python",
      "pygments_lexer": "ipython3",
      "version": "3.9.12"
    },
    "nteract": {
      "version": "0.26.0"
    },
    "vscode": {
      "interpreter": {
        "hash": "0ec74f2ef0ca598f390a4a7db092ad1c70db3c7088fec82b00d464e499cb9a24"
      }
    }
  },
  "nbformat": 4,
  "nbformat_minor": 2
}
