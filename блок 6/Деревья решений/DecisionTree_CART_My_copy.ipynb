{
 "cells": [
  {
   "cell_type": "code",
   "execution_count": 1,
   "metadata": {},
   "outputs": [],
   "source": [
    "import pandas as pd\n",
    "import numpy as np"
   ]
  },
  {
   "cell_type": "code",
   "execution_count": 2,
   "metadata": {},
   "outputs": [],
   "source": [
    "data = pd.DataFrame({\n",
    "    'age': [17, 64, 18, 20, 38, 49, 55, 25, 29, 31],\n",
    "    'income': [25, 80, 22, 36, 37, 59, 74, 70, 33, 102],\n",
    "    'loan': [1, 0, 1, 0, 1, 0, 0, 1, 1, 0]\n",
    "})\n",
    "x = data[['age', 'income']]\n",
    "y = data['loan']"
   ]
  },
  {
   "cell_type": "markdown",
   "metadata": {},
   "source": [
    "1. Сортируем признак по возрастанию и удаляем дубликаты\n",
    "2. Находим скользящее среднее и удаляем пустые значения (первое всегда пустое)\n",
    "3. Находим индексы y, которые соответствуют скользящим средним\n",
    "4. Находим разницу по y с целью того, чтобы понять, где класс меняется\n",
    "5. Выбираем те индексы и соответствующие им средние, у которых класс y изменился"
   ]
  },
  {
   "cell_type": "code",
   "execution_count": 3,
   "metadata": {},
   "outputs": [],
   "source": [
    "def find_candidates_for_thresholds(x, y):\n",
    "    x = x.sort_values().drop_duplicates()\n",
    "    x_rolling_mean = x.rolling(2).mean().dropna()\n",
    "    y = y[x_rolling_mean.index]\n",
    "    y_diff = y.diff()\n",
    "    candidades = x_rolling_mean[y_diff!=0]\n",
    "    return candidades.values"
   ]
  },
  {
   "cell_type": "markdown",
   "metadata": {},
   "source": [
    "Среднеквадратичная ошибка:"
   ]
  },
  {
   "cell_type": "code",
   "execution_count": 4,
   "metadata": {},
   "outputs": [],
   "source": [
    "def squared_error(y):\n",
    "    y_mean = y.mean()\n",
    "    mse = ((y-y_mean)**2).mean()\n",
    "    return mse\n"
   ]
  },
  {
   "cell_type": "markdown",
   "metadata": {},
   "source": [
    "Обеспечивается разбиение датафрейма по указанным параметрам:"
   ]
  },
  {
   "cell_type": "code",
   "execution_count": 5,
   "metadata": {},
   "outputs": [],
   "source": [
    "def split(X, y, split_params):\n",
    "    j, t = split_params\n",
    "    predicat = X.iloc[:, j]<=t\n",
    "    X_left, y_left = X[predicat], y[predicat]\n",
    "    X_right, y_right = X[~predicat], y[~predicat]\n",
    "    return X_left, y_left, X_right, y_right"
   ]
  },
  {
   "cell_type": "markdown",
   "metadata": {},
   "source": [
    "Вычисляется взвешенная неоднородность после разбиения:"
   ]
  },
  {
   "cell_type": "code",
   "execution_count": 6,
   "metadata": {},
   "outputs": [],
   "source": [
    "def calculate_weighted_impurity(X, y, split_params, criterion):\n",
    "    X_left, y_left, X_right, y_right = split(X, y, split_params)\n",
    "    N, N_left, N_right = y.size, y_left.size, y_right.size\n",
    "    score = (N_left/N)*criterion(y_left) + (N_right/N)*criterion(y_right)\n",
    "    return score"
   ]
  },
  {
   "cell_type": "markdown",
   "metadata": {},
   "source": [
    "Ищется оптимальное разбиение:"
   ]
  },
  {
   "cell_type": "code",
   "execution_count": 7,
   "metadata": {},
   "outputs": [],
   "source": [
    "def best_split(X, y, criterion):\n",
    "    M = X.shape[1]\n",
    "    min_weighted_impurity = np.inf\n",
    "    optimal_split_params = None\n",
    "\n",
    "    for j in range(M):\n",
    "        candidades = find_candidates_for_thresholds(X.iloc[:,j], y)\n",
    "        for t in candidades:\n",
    "            eighted_impurity = calculate_weighted_impurity(X, y, (j, t), squared_error)\n",
    "            if eighted_impurity < min_weighted_impurity:\n",
    "                min_weighted_impurity = eighted_impurity\n",
    "                optimal_split_params = (j ,t)\n",
    "\n",
    "    return optimal_split_params"
   ]
  },
  {
   "cell_type": "code",
   "execution_count": 8,
   "metadata": {},
   "outputs": [],
   "source": [
    "data = pd.DataFrame({\n",
    "    'x1': list(range(1, 16)),\n",
    "    'y': [1, 1.2, 1.4, 1.1, 1, 5.5, 6.1, 6.7, 6.4, 6, 6, 3, 3.2, 3.1, 3]\n",
    "})\n",
    "X = data[['x1']]\n",
    "y = data['y']"
   ]
  },
  {
   "cell_type": "code",
   "execution_count": 9,
   "metadata": {},
   "outputs": [
    {
     "name": "stdout",
     "output_type": "stream",
     "text": [
      "Optimal j: 0\n",
      "Optimal t: 5.5\n"
     ]
    }
   ],
   "source": [
    "optimal_split_params = best_split(X, y, criterion=squared_error)\n",
    "print('Optimal j: {}'.format(optimal_split_params[0]))\n",
    "print('Optimal t: {}'.format(optimal_split_params[1]))"
   ]
  },
  {
   "attachments": {},
   "cell_type": "markdown",
   "metadata": {},
   "source": [
    "Энтропия Шеннона. Минус (сумма по k=1 до K по Pk*log2(Pk)):"
   ]
  },
  {
   "cell_type": "code",
   "execution_count": 10,
   "metadata": {},
   "outputs": [],
   "source": [
    "def entropy(y):\n",
    "    p = y.value_counts(normalize = True)\n",
    "    entropy = np.sum(p*np.log2(p))\n",
    "    return entropy"
   ]
  },
  {
   "cell_type": "code",
   "execution_count": 11,
   "metadata": {},
   "outputs": [],
   "source": [
    "class Node:\n",
    "    def __init__(self, left=None, \n",
    "                 right=None, value=None, \n",
    "                 split_params=None, impurity=None,\n",
    "                 samples=None, is_leaf=False):\n",
    "        self.left = left\n",
    "        self.right = right\n",
    "        self.split_params = split_params\n",
    "        self.value = value\n",
    "        self.impurity = impurity\n",
    "        self.samples = samples\n",
    "        self.is_leaf = is_leaf"
   ]
  }
 ],
 "metadata": {
  "kernelspec": {
   "display_name": "Python 3.9.12 ('base')",
   "language": "python",
   "name": "python3"
  },
  "language_info": {
   "codemirror_mode": {
    "name": "ipython",
    "version": 3
   },
   "file_extension": ".py",
   "mimetype": "text/x-python",
   "name": "python",
   "nbconvert_exporter": "python",
   "pygments_lexer": "ipython3",
   "version": "3.9.12 (main, Apr  4 2022, 05:22:27) [MSC v.1916 64 bit (AMD64)]"
  },
  "orig_nbformat": 4,
  "vscode": {
   "interpreter": {
    "hash": "0ec74f2ef0ca598f390a4a7db092ad1c70db3c7088fec82b00d464e499cb9a24"
   }
  }
 },
 "nbformat": 4,
 "nbformat_minor": 2
}
