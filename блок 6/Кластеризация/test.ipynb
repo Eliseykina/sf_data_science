{
 "cells": [
  {
   "cell_type": "code",
   "execution_count": 45,
   "metadata": {},
   "outputs": [],
   "source": [
    "import numpy as np\n",
    "import pandas as pd"
   ]
  },
  {
   "cell_type": "code",
   "execution_count": 46,
   "metadata": {},
   "outputs": [
    {
     "data": {
      "text/html": [
       "<div>\n",
       "<style scoped>\n",
       "    .dataframe tbody tr th:only-of-type {\n",
       "        vertical-align: middle;\n",
       "    }\n",
       "\n",
       "    .dataframe tbody tr th {\n",
       "        vertical-align: top;\n",
       "    }\n",
       "\n",
       "    .dataframe thead th {\n",
       "        text-align: right;\n",
       "    }\n",
       "</style>\n",
       "<table border=\"1\" class=\"dataframe\">\n",
       "  <thead>\n",
       "    <tr style=\"text-align: right;\">\n",
       "      <th></th>\n",
       "      <th>0</th>\n",
       "      <th>1</th>\n",
       "    </tr>\n",
       "  </thead>\n",
       "  <tbody>\n",
       "    <tr>\n",
       "      <th>x1</th>\n",
       "      <td>-3</td>\n",
       "      <td>0</td>\n",
       "    </tr>\n",
       "    <tr>\n",
       "      <th>x2</th>\n",
       "      <td>-2</td>\n",
       "      <td>0</td>\n",
       "    </tr>\n",
       "    <tr>\n",
       "      <th>x3</th>\n",
       "      <td>-1</td>\n",
       "      <td>0</td>\n",
       "    </tr>\n",
       "    <tr>\n",
       "      <th>x4</th>\n",
       "      <td>1</td>\n",
       "      <td>0</td>\n",
       "    </tr>\n",
       "    <tr>\n",
       "      <th>x5</th>\n",
       "      <td>2</td>\n",
       "      <td>0</td>\n",
       "    </tr>\n",
       "  </tbody>\n",
       "</table>\n",
       "</div>"
      ],
      "text/plain": [
       "    0  1\n",
       "x1 -3  0\n",
       "x2 -2  0\n",
       "x3 -1  0\n",
       "x4  1  0\n",
       "x5  2  0"
      ]
     },
     "execution_count": 46,
     "metadata": {},
     "output_type": "execute_result"
    }
   ],
   "source": [
    "df = pd.DataFrame({\n",
    "    'x1': [-3, 0],\n",
    "    'x2': [-2, 0],\n",
    "    'x3': [-1, 0],\n",
    "    'x4': [1, 0],\n",
    "    'x5': [2, 0]\n",
    "}).transpose()\n",
    "df"
   ]
  },
  {
   "cell_type": "code",
   "execution_count": 47,
   "metadata": {},
   "outputs": [],
   "source": [
    "M1=(1, -1)\n",
    "M2=(3, 0)"
   ]
  },
  {
   "cell_type": "code",
   "execution_count": 110,
   "metadata": {},
   "outputs": [
    {
     "name": "stdout",
     "output_type": "stream",
     "text": [
      "(    0  1  distance_M1  distance_M2  to_M1  to_M2\n",
      "x1 -3  0          1.0        20.25      1      0\n",
      "x2 -2  0          0.0        12.25      1      0\n",
      "x3 -1  0          1.0         6.25      1      0\n",
      "x4  1  0          9.0         0.25      0      1\n",
      "x5  2  0         16.0         0.25      0      1, (-2.0, 0.0), (1.5, 0.0))\n"
     ]
    }
   ],
   "source": [
    "def get_new_klasteriz(data, k1, k2):\n",
    "\n",
    "    for ind in list(data.index):\n",
    "        distance_M1 = (data.loc[ind,0] - k1[0])**2 + (data.loc[ind,1] - k1[1])**2\n",
    "        distance_M2 = (data.loc[ind,0] - k2[0])**2 + (data.loc[ind,1] - k2[1])**2\n",
    "        data.loc[ind, 'distance_M1'], data.loc[ind, 'distance_M2'] = distance_M1, distance_M2\n",
    "        if distance_M1>distance_M2:\n",
    "            data.loc[ind,'to_M1'], data.loc[ind,'to_M2'] = 0, 1\n",
    "        else:\n",
    "            data.loc[ind,'to_M1'], data.loc[ind,'to_M2'] = 1, 0\n",
    "        \n",
    "    M1 = (data[data['to_M1']==1].iloc[:, 0].sum()/data[data['to_M1']==1].iloc[:, 0].count(), \\\n",
    "        data[data['to_M1']==1].iloc[:, 1].sum()/data[data['to_M1']==1].iloc[:, 1].count())\n",
    "\n",
    "    M2 = (data[data['to_M2']==1].iloc[:, 0].sum()/data[data['to_M2']==1].iloc[:, 0].count(), \\\n",
    "        data[data['to_M2']==1].iloc[:, 1].sum()/data[data['to_M2']==1].iloc[:, 1].count())\n",
    "\n",
    "    \n",
    "    if ((M1==k1) and (M2==k2)):\n",
    "        return data, M1, M2\n",
    "        \n",
    "    else:\n",
    "        return get_new_klasteriz(data, M1, M2)\n",
    "\n",
    "print(get_new_klasteriz(df, M1, M2))"
   ]
  },
  {
   "cell_type": "code",
   "execution_count": null,
   "metadata": {},
   "outputs": [],
   "source": []
  }
 ],
 "metadata": {
  "kernelspec": {
   "display_name": "base",
   "language": "python",
   "name": "python3"
  },
  "language_info": {
   "codemirror_mode": {
    "name": "ipython",
    "version": 3
   },
   "file_extension": ".py",
   "mimetype": "text/x-python",
   "name": "python",
   "nbconvert_exporter": "python",
   "pygments_lexer": "ipython3",
   "version": "3.9.12 (main, Apr  4 2022, 05:22:27) [MSC v.1916 64 bit (AMD64)]"
  },
  "orig_nbformat": 4,
  "vscode": {
   "interpreter": {
    "hash": "0ec74f2ef0ca598f390a4a7db092ad1c70db3c7088fec82b00d464e499cb9a24"
   }
  }
 },
 "nbformat": 4,
 "nbformat_minor": 2
}
